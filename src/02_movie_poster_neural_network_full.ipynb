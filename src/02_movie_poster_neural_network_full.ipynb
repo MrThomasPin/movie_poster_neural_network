{
 "cells": [
  {
   "cell_type": "code",
   "execution_count": 36,
   "metadata": {},
   "outputs": [],
   "source": [
    "#load packages \n",
    "import numpy as np\n",
    "import pandas as pd\n",
    "import scipy\n",
    "import re\n",
    "from PIL import Image\n",
    "import glob\n",
    "import os \n",
    "from sklearn.model_selection import train_test_split\n",
    "from sklearn.preprocessing import MultiLabelBinarizer\n",
    "import matplotlib.pyplot as plt\n",
    "from pandarallel import pandarallel\n",
    "from datetime import date\n",
    "%matplotlib inline"
   ]
  },
  {
   "cell_type": "code",
   "execution_count": 37,
   "metadata": {},
   "outputs": [],
   "source": [
    "import tensorflow as tf\n",
    "from tensorflow.keras.layers import Dense, Dropout, Flatten, Activation, Conv2D, MaxPooling2D, GlobalAveragePooling2D\n",
    "from tensorflow.keras.models import Sequential, Model, load_model\n",
    "from tensorflow.keras.optimizers import Adam, SGD\n",
    "from tensorflow.keras.preprocessing.image import img_to_array, load_img\n",
    "from tensorflow.keras import utils\n",
    "from tensorflow.keras.applications.inception_v3 import InceptionV3"
   ]
  },
  {
   "cell_type": "code",
   "execution_count": 38,
   "metadata": {},
   "outputs": [],
   "source": [
    "#grab file path names\n",
    "image_paths = glob.glob(\"../data/movie-genre-from-its-poster/MoviePosters/*.jpg\")\n",
    "image_ids = []\n",
    "for path in image_paths:\n",
    "    start = path.rfind(\"/\") +1\n",
    "    end = len(path) - 4\n",
    "    image_ids.append(path[start:end])"
   ]
  },
  {
   "cell_type": "code",
   "execution_count": 39,
   "metadata": {},
   "outputs": [
    {
     "data": {
      "text/plain": [
       "37062"
      ]
     },
     "execution_count": 39,
     "metadata": {},
     "output_type": "execute_result"
    }
   ],
   "source": [
    "len(image_paths)"
   ]
  },
  {
   "cell_type": "code",
   "execution_count": 40,
   "metadata": {},
   "outputs": [],
   "source": [
    "df_movie = pd.read_csv(\"../data/movie-genre-from-its-poster/MovieGenre.csv\", encoding = \"ISO-8859-1\")"
   ]
  },
  {
   "cell_type": "code",
   "execution_count": 41,
   "metadata": {},
   "outputs": [
    {
     "data": {
      "text/plain": [
       "37062"
      ]
     },
     "execution_count": 41,
     "metadata": {},
     "output_type": "execute_result"
    }
   ],
   "source": [
    "len(image_paths)"
   ]
  },
  {
   "cell_type": "code",
   "execution_count": 42,
   "metadata": {},
   "outputs": [],
   "source": [
    "df_movie = pd.read_csv(\"../data/movie-genre-from-its-poster/MovieGenre.csv\", encoding = \"ISO-8859-1\")"
   ]
  },
  {
   "cell_type": "code",
   "execution_count": 43,
   "metadata": {},
   "outputs": [
    {
     "data": {
      "text/plain": [
       "(40108, 6)"
      ]
     },
     "execution_count": 43,
     "metadata": {},
     "output_type": "execute_result"
    }
   ],
   "source": [
    "df_movie.shape"
   ]
  },
  {
   "cell_type": "code",
   "execution_count": 44,
   "metadata": {
    "scrolled": false
   },
   "outputs": [
    {
     "data": {
      "text/html": [
       "<div>\n",
       "<style scoped>\n",
       "    .dataframe tbody tr th:only-of-type {\n",
       "        vertical-align: middle;\n",
       "    }\n",
       "\n",
       "    .dataframe tbody tr th {\n",
       "        vertical-align: top;\n",
       "    }\n",
       "\n",
       "    .dataframe thead th {\n",
       "        text-align: right;\n",
       "    }\n",
       "</style>\n",
       "<table border=\"1\" class=\"dataframe\">\n",
       "  <thead>\n",
       "    <tr style=\"text-align: right;\">\n",
       "      <th></th>\n",
       "      <th>imdbId</th>\n",
       "      <th>Imdb Link</th>\n",
       "      <th>Title</th>\n",
       "      <th>IMDB Score</th>\n",
       "      <th>Genre</th>\n",
       "      <th>Poster</th>\n",
       "    </tr>\n",
       "  </thead>\n",
       "  <tbody>\n",
       "    <tr>\n",
       "      <th>0</th>\n",
       "      <td>114709</td>\n",
       "      <td>http://www.imdb.com/title/tt114709</td>\n",
       "      <td>Toy Story (1995)</td>\n",
       "      <td>8.3</td>\n",
       "      <td>Animation|Adventure|Comedy</td>\n",
       "      <td>https://images-na.ssl-images-amazon.com/images...</td>\n",
       "    </tr>\n",
       "  </tbody>\n",
       "</table>\n",
       "</div>"
      ],
      "text/plain": [
       "   imdbId                           Imdb Link             Title  IMDB Score  \\\n",
       "0  114709  http://www.imdb.com/title/tt114709  Toy Story (1995)         8.3   \n",
       "\n",
       "                        Genre  \\\n",
       "0  Animation|Adventure|Comedy   \n",
       "\n",
       "                                              Poster  \n",
       "0  https://images-na.ssl-images-amazon.com/images...  "
      ]
     },
     "execution_count": 44,
     "metadata": {},
     "output_type": "execute_result"
    }
   ],
   "source": [
    "df_movie.head(1)"
   ]
  },
  {
   "cell_type": "code",
   "execution_count": 45,
   "metadata": {},
   "outputs": [],
   "source": [
    "df_movie = df_movie[df_movie[\"imdbId\"].isin(image_ids)]\n",
    "df_movie = df_movie.drop_duplicates(subset=['imdbId'], keep=\"last\")"
   ]
  },
  {
   "cell_type": "code",
   "execution_count": 46,
   "metadata": {
    "scrolled": true
   },
   "outputs": [
    {
     "data": {
      "text/plain": [
       "(37062, 6)"
      ]
     },
     "execution_count": 46,
     "metadata": {},
     "output_type": "execute_result"
    }
   ],
   "source": [
    "df_movie.shape"
   ]
  },
  {
   "cell_type": "markdown",
   "metadata": {},
   "source": [
    "### Apply tuple in parallel"
   ]
  },
  {
   "cell_type": "code",
   "execution_count": 47,
   "metadata": {},
   "outputs": [],
   "source": [
    "def convert_tuple(list): \n",
    "    return tuple(i for i in list) "
   ]
  },
  {
   "cell_type": "code",
   "execution_count": 48,
   "metadata": {},
   "outputs": [],
   "source": [
    "df_movie[\"image_path\"] = image_paths\n",
    "df_movie = df_movie.dropna()\n",
    "image_paths = df_movie[\"image_path\"].to_list()"
   ]
  },
  {
   "cell_type": "code",
   "execution_count": 49,
   "metadata": {
    "scrolled": true
   },
   "outputs": [
    {
     "data": {
      "text/plain": [
       "(36928, 7)"
      ]
     },
     "execution_count": 49,
     "metadata": {},
     "output_type": "execute_result"
    }
   ],
   "source": [
    "df_movie.shape"
   ]
  },
  {
   "cell_type": "code",
   "execution_count": 50,
   "metadata": {
    "scrolled": true
   },
   "outputs": [],
   "source": [
    "df_movie[\"Genre\"] = df_movie[\"Genre\"].str.split(\"|\")"
   ]
  },
  {
   "cell_type": "code",
   "execution_count": 51,
   "metadata": {},
   "outputs": [],
   "source": [
    "df_movie[\"Genre\"] = df_movie[\"Genre\"].apply(convert_tuple)"
   ]
  },
  {
   "cell_type": "code",
   "execution_count": 52,
   "metadata": {},
   "outputs": [],
   "source": [
    "y = df_movie[\"Genre\"]"
   ]
  },
  {
   "cell_type": "code",
   "execution_count": 53,
   "metadata": {},
   "outputs": [],
   "source": [
    "mlb = MultiLabelBinarizer()\n",
    "y = mlb.fit_transform(y)\n",
    "target_key = mlb.classes_"
   ]
  },
  {
   "cell_type": "code",
   "execution_count": 54,
   "metadata": {},
   "outputs": [],
   "source": [
    "batch_size = 500 \n",
    "def data_generator(image_paths, y, batch_size = batch_size):\n",
    "    \"\"\".\n",
    "\n",
    "    # Returns\n",
    "        Yields feature and label data in batches.\n",
    "    \"\"\"\n",
    "    num_samples = len(image_paths)\n",
    "    num_batches = num_samples // batch_size\n",
    "    if num_samples % batch_size:\n",
    "        num_batches += 1\n",
    "\n",
    "    while 1:\n",
    "        for i in range(num_batches):\n",
    "            start_idx = i * batch_size\n",
    "            end_idx = (i + 1) * batch_size\n",
    "            if end_idx > num_samples:\n",
    "                end_idx = num_samples\n",
    "            image_paths_batch = image_paths[start_idx:end_idx]\n",
    "            y_batch = y[start_idx:end_idx]\n",
    "            \n",
    "            img_batch = np.array([img_to_array(\n",
    "                    load_img(img, target_size=(182,268))\n",
    "                    ) for img in image_paths_batch])\n",
    "            \n",
    "            \n",
    "            img_batch = img_batch.astype('float32')/255.0\n",
    "            \n",
    "            yield img_batch, y_batch"
   ]
  },
  {
   "cell_type": "code",
   "execution_count": 55,
   "metadata": {},
   "outputs": [],
   "source": [
    "# images = np.array([img_to_array(\n",
    "#                     load_img(img, target_size=(182,268))\n",
    "#                     ) for img in image_paths])"
   ]
  },
  {
   "cell_type": "code",
   "execution_count": 56,
   "metadata": {},
   "outputs": [],
   "source": [
    "# images = images.astype('float32')/255.0"
   ]
  },
  {
   "cell_type": "code",
   "execution_count": 57,
   "metadata": {},
   "outputs": [
    {
     "name": "stdout",
     "output_type": "stream",
     "text": [
      "number of genre: 28\n"
     ]
    }
   ],
   "source": [
    "target_labels = target_key\n",
    "total_classes = len(set(target_labels))\n",
    "print(\"number of genre:\", total_classes)"
   ]
  },
  {
   "cell_type": "code",
   "execution_count": 58,
   "metadata": {},
   "outputs": [],
   "source": [
    "X_train_img, X_valid_img, y_train, y_valid = train_test_split(image_paths, y, \n",
    "                                                     random_state=42)"
   ]
  },
  {
   "cell_type": "code",
   "execution_count": 59,
   "metadata": {},
   "outputs": [],
   "source": [
    "training_generator = data_generator(X_train_img, y_train)\n",
    "validation_generator = data_generator(X_valid_img, y_valid)\n",
    "\n",
    "steps_per_epoch = len(X_train_img) // batch_size\n",
    "if len(X_train_img) % batch_size:\n",
    "    steps_per_epoch += 1\n",
    "    \n",
    "validation_steps = len(X_valid_img) // batch_size\n",
    "if len(X_valid_img) % batch_size:\n",
    "    validation_steps += 1        "
   ]
  },
  {
   "cell_type": "code",
   "execution_count": 60,
   "metadata": {},
   "outputs": [],
   "source": [
    "model = Sequential()\n",
    "model.add(Conv2D(32, (3, 3), input_shape=(182, 268, 3)))\n",
    "model.add(Activation('relu')) # this is just different syntax for specifying the activation function\n",
    "model.add(MaxPooling2D(pool_size=(2, 2)))\n",
    "\n",
    "model.add(Conv2D(32, (3, 3)))\n",
    "model.add(Activation('relu'))\n",
    "model.add(MaxPooling2D(pool_size=(2, 2)))\n",
    "\n",
    "model.add(Conv2D(64, (3, 3)))\n",
    "model.add(Activation('relu'))\n",
    "model.add(MaxPooling2D(pool_size=(2, 2)))"
   ]
  },
  {
   "cell_type": "code",
   "execution_count": 61,
   "metadata": {
    "scrolled": false
   },
   "outputs": [
    {
     "name": "stdout",
     "output_type": "stream",
     "text": [
      "Model: \"sequential_1\"\n",
      "_________________________________________________________________\n",
      "Layer (type)                 Output Shape              Param #   \n",
      "=================================================================\n",
      "conv2d_3 (Conv2D)            (None, 180, 266, 32)      896       \n",
      "_________________________________________________________________\n",
      "activation_5 (Activation)    (None, 180, 266, 32)      0         \n",
      "_________________________________________________________________\n",
      "max_pooling2d_3 (MaxPooling2 (None, 90, 133, 32)       0         \n",
      "_________________________________________________________________\n",
      "conv2d_4 (Conv2D)            (None, 88, 131, 32)       9248      \n",
      "_________________________________________________________________\n",
      "activation_6 (Activation)    (None, 88, 131, 32)       0         \n",
      "_________________________________________________________________\n",
      "max_pooling2d_4 (MaxPooling2 (None, 44, 65, 32)        0         \n",
      "_________________________________________________________________\n",
      "conv2d_5 (Conv2D)            (None, 42, 63, 64)        18496     \n",
      "_________________________________________________________________\n",
      "activation_7 (Activation)    (None, 42, 63, 64)        0         \n",
      "_________________________________________________________________\n",
      "max_pooling2d_5 (MaxPooling2 (None, 21, 31, 64)        0         \n",
      "_________________________________________________________________\n",
      "flatten_1 (Flatten)          (None, 41664)             0         \n",
      "_________________________________________________________________\n",
      "dense_2 (Dense)              (None, 64)                2666560   \n",
      "_________________________________________________________________\n",
      "activation_8 (Activation)    (None, 64)                0         \n",
      "_________________________________________________________________\n",
      "dropout_1 (Dropout)          (None, 64)                0         \n",
      "_________________________________________________________________\n",
      "dense_3 (Dense)              (None, 28)                1820      \n",
      "_________________________________________________________________\n",
      "activation_9 (Activation)    (None, 28)                0         \n",
      "=================================================================\n",
      "Total params: 2,697,020\n",
      "Trainable params: 2,697,020\n",
      "Non-trainable params: 0\n",
      "_________________________________________________________________\n"
     ]
    }
   ],
   "source": [
    "model.add(Flatten())\n",
    "model.add(Dense(64))\n",
    "model.add(Activation('relu'))\n",
    "model.add(Dropout(0.5))\n",
    "model.add(Dense(total_classes))\n",
    "model.add(Activation('sigmoid'))\n",
    "\n",
    "model.compile(loss='binary_crossentropy', optimizer='adam', metrics=['accuracy'])\n",
    "\n",
    "model.summary()"
   ]
  },
  {
   "cell_type": "code",
   "execution_count": 62,
   "metadata": {
    "scrolled": true
   },
   "outputs": [
    {
     "name": "stdout",
     "output_type": "stream",
     "text": [
      "WARNING:tensorflow:sample_weight modes were coerced from\n",
      "  ...\n",
      "    to  \n",
      "  ['...']\n",
      "WARNING:tensorflow:sample_weight modes were coerced from\n",
      "  ...\n",
      "    to  \n",
      "  ['...']\n",
      "Train for 56 steps, validate for 19 steps\n",
      "Epoch 1/10\n",
      "56/56 [==============================] - 563s 10s/step - loss: 0.4126 - accuracy: 0.8209 - val_loss: 0.2259 - val_accuracy: 0.9232\n",
      "Epoch 2/10\n",
      "56/56 [==============================] - 561s 10s/step - loss: 0.2819 - accuracy: 0.9050 - val_loss: 0.2176 - val_accuracy: 0.9233\n",
      "Epoch 3/10\n",
      "56/56 [==============================] - 554s 10s/step - loss: 0.2577 - accuracy: 0.9159 - val_loss: 0.2163 - val_accuracy: 0.9232\n",
      "Epoch 4/10\n",
      "56/56 [==============================] - 558s 10s/step - loss: 0.2476 - accuracy: 0.9195 - val_loss: 0.2151 - val_accuracy: 0.9232\n",
      "Epoch 5/10\n",
      "56/56 [==============================] - 565s 10s/step - loss: 0.2404 - accuracy: 0.9216 - val_loss: 0.2146 - val_accuracy: 0.9232\n",
      "Epoch 6/10\n",
      "56/56 [==============================] - 562s 10s/step - loss: 0.2366 - accuracy: 0.9222 - val_loss: 0.2144 - val_accuracy: 0.9232\n",
      "Epoch 7/10\n",
      "56/56 [==============================] - 559s 10s/step - loss: 0.2333 - accuracy: 0.9226 - val_loss: 0.2144 - val_accuracy: 0.9232\n",
      "Epoch 8/10\n",
      "56/56 [==============================] - 559s 10s/step - loss: 0.2305 - accuracy: 0.9230 - val_loss: 0.2144 - val_accuracy: 0.9231\n",
      "Epoch 9/10\n",
      "56/56 [==============================] - 565s 10s/step - loss: 0.2287 - accuracy: 0.9231 - val_loss: 0.2141 - val_accuracy: 0.9234\n",
      "Epoch 10/10\n",
      "56/56 [==============================] - 567s 10s/step - loss: 0.2269 - accuracy: 0.9233 - val_loss: 0.2145 - val_accuracy: 0.9232\n"
     ]
    }
   ],
   "source": [
    "epochs = 10\n",
    "history = model.fit_generator(\n",
    "    generator=training_generator,\n",
    "    steps_per_epoch=steps_per_epoch,\n",
    "    validation_data=validation_generator,\n",
    "    validation_steps=validation_steps,\n",
    "    epochs=epochs) "
   ]
  },
  {
   "cell_type": "code",
   "execution_count": 124,
   "metadata": {},
   "outputs": [
    {
     "name": "stdout",
     "output_type": "stream",
     "text": [
      "INFO:tensorflow:Assets written to: ../model/large_movie_poster_2020-05-25/assets\n"
     ]
    }
   ],
   "source": [
    "today = date.today()\n",
    "model.save('../model/large_movie_poster_'+str(today))"
   ]
  },
  {
   "cell_type": "code",
   "execution_count": 47,
   "metadata": {
    "scrolled": true
   },
   "outputs": [
    {
     "name": "stdout",
     "output_type": "stream",
     "text": [
      "Train on 747 samples, validate on 250 samples\n",
      "Epoch 1/10\n",
      "747/747 [==============================] - 27s 36ms/sample - loss: 0.4991 - accuracy: 0.7703 - val_loss: 0.3271 - val_accuracy: 0.9127\n",
      "Epoch 2/10\n",
      "747/747 [==============================] - 28s 38ms/sample - loss: 0.3864 - accuracy: 0.8431 - val_loss: 0.2790 - val_accuracy: 0.9127\n",
      "Epoch 3/10\n",
      "747/747 [==============================] - 28s 38ms/sample - loss: 0.3384 - accuracy: 0.8743 - val_loss: 0.2515 - val_accuracy: 0.9127\n",
      "Epoch 4/10\n",
      "747/747 [==============================] - 27s 36ms/sample - loss: 0.3072 - accuracy: 0.8895 - val_loss: 0.2477 - val_accuracy: 0.9127\n",
      "Epoch 5/10\n",
      "747/747 [==============================] - 28s 37ms/sample - loss: 0.2869 - accuracy: 0.8976 - val_loss: 0.2483 - val_accuracy: 0.9127\n",
      "Epoch 6/10\n",
      "747/747 [==============================] - 28s 38ms/sample - loss: 0.2673 - accuracy: 0.9046 - val_loss: 0.2458 - val_accuracy: 0.9129\n",
      "Epoch 7/10\n",
      "747/747 [==============================] - 26s 35ms/sample - loss: 0.2443 - accuracy: 0.9122 - val_loss: 0.2504 - val_accuracy: 0.9118\n",
      "Epoch 8/10\n",
      "747/747 [==============================] - 26s 35ms/sample - loss: 0.2392 - accuracy: 0.9133 - val_loss: 0.2674 - val_accuracy: 0.9122\n",
      "Epoch 9/10\n",
      "747/747 [==============================] - 26s 34ms/sample - loss: 0.2159 - accuracy: 0.9154 - val_loss: 0.2612 - val_accuracy: 0.9108\n",
      "Epoch 10/10\n",
      "747/747 [==============================] - 26s 35ms/sample - loss: 0.2080 - accuracy: 0.9211 - val_loss: 0.2650 - val_accuracy: 0.9127\n"
     ]
    }
   ],
   "source": [
    "# history = model.fit(X_train, y_train, epochs=5, validation_data=(X_valid, y_valid))"
   ]
  },
  {
   "cell_type": "code",
   "execution_count": 74,
   "metadata": {},
   "outputs": [],
   "source": []
  },
  {
   "cell_type": "code",
   "execution_count": 70,
   "metadata": {},
   "outputs": [],
   "source": [
    "def poster_classification(img, target_key=target_key, model=model, ):\n",
    "    proba = model.predict(img)[0]\n",
    "    idxs = np.argsort(proba)[::-1][:2]\n",
    "    print(\"Poster Prediction\")\n",
    "    for (i, j) in enumerate(idxs):\n",
    "        label = \"{}: {:.2f}%\".format(target_key[j], proba[j] * 100)\n",
    "    for (label, p) in zip(target_key, proba):\n",
    "        if p >= .4:\n",
    "            print(\"{}: {:.2f}%\".format(label, p * 100))\n",
    "            \n",
    "    plt.imshow(img[0]);\n",
    "    plt.grid(True);\n",
    "    plt.xticks([]);\n",
    "    plt.yticks([]);"
   ]
  },
  {
   "cell_type": "code",
   "execution_count": 82,
   "metadata": {},
   "outputs": [],
   "source": [
    "# def poster_classification_database(idx=7, images=images, target=target, target_key=target_key, model=model):\n",
    "#     img = np.reshape(images[idx], (1, 256, 256, 3))\n",
    "#     proba = model.predict(img)[0]\n",
    "#     idxs = np.argsort(proba)[::-1][:2]\n",
    "#     print(\"Poster Prediction\")\n",
    "#     for (i, j) in enumerate(idxs):\n",
    "#         label = \"{}: {:.2f}%\".format(target_key[j], proba[j] * 100)\n",
    "#     for (label, p) in zip(target_key, proba):\n",
    "#         if p >= .45:\n",
    "#             print(\"{}: {:.2f}%\".format(label, p * 100))\n",
    "            \n",
    "#     plt.imshow(img[0]);\n",
    "#     plt.grid(True);\n",
    "#     plt.xticks([]);\n",
    "#     plt.yticks([]);\n",
    "#     print(\"\")\n",
    "#     print(f\"True poster genre:{target.iloc[idx]}\")"
   ]
  },
  {
   "cell_type": "code",
   "execution_count": 121,
   "metadata": {},
   "outputs": [],
   "source": [
    "img_test_predict = np.array([img_to_array(\n",
    "                    load_img(image_paths[0], target_size=(182,268))\n",
    "                    )])\n",
    "img_test_predict = img_test_predict.astype('float32')/255.0"
   ]
  },
  {
   "cell_type": "code",
   "execution_count": 122,
   "metadata": {},
   "outputs": [
    {
     "name": "stdout",
     "output_type": "stream",
     "text": [
      "Poster Prediction\n",
      "Drama: 51.08%\n"
     ]
    },
    {
     "data": {
      "image/png": "[encoded data removed]",
      "text/plain": [
       "<Figure size 432x288 with 1 Axes>"
      ]
     },
     "metadata": {},
     "output_type": "display_data"
    }
   ],
   "source": [
    "poster_classification(img_test_predict)"
   ]
  },
  {
   "cell_type": "code",
   "execution_count": null,
   "metadata": {},
   "outputs": [],
   "source": []
  }
 ],
 "metadata": {
  "kernelspec": {
   "display_name": "Python 3",
   "language": "python",
   "name": "python3"
  },
  "language_info": {
   "codemirror_mode": {
    "name": "ipython",
    "version": 3
   },
   "file_extension": ".py",
   "mimetype": "text/x-python",
   "name": "python",
   "nbconvert_exporter": "python",
   "pygments_lexer": "ipython3",
   "version": "3.7.6"
  }
 },
 "nbformat": 4,
 "nbformat_minor": 4
}
