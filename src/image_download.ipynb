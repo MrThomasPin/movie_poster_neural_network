{
 "cells": [
  {
   "cell_type": "code",
   "execution_count": 10,
   "metadata": {},
   "outputs": [],
   "source": [
    "#load packages \n",
    "import numpy as np\n",
    "import pandas as pd\n",
    "import scipy\n",
    "from PIL import Image\n",
    "import glob\n",
    "import os \n",
    "from sklearn.model_selection import train_test_split\n",
    "from sklearn.preprocessing import MultiLabelBinarizer\n",
    "import matplotlib.pyplot as plt\n",
    "from pandarallel import pandarallel\n",
    "from PIL import Image\n",
    "import requests\n",
    "from io import BytesIO\n",
    "%matplotlib inline"
   ]
  },
  {
   "cell_type": "code",
   "execution_count": 2,
   "metadata": {},
   "outputs": [],
   "source": [
    "#grab file path names\n",
    "image_paths = glob.glob(\"../data/movie-genre-from-its-poster/SampleMoviePosters/SampleMoviePosters/*.jpg\")\n",
    "image_ids = []\n",
    "for path in image_paths:\n",
    "    start = path.rfind(\"/\") +1\n",
    "    end = len(path) - 4\n",
    "    image_ids.append(path[start:end])"
   ]
  },
  {
   "cell_type": "code",
   "execution_count": 3,
   "metadata": {},
   "outputs": [],
   "source": [
    "df_movie = pd.read_csv(\"../data/movie-genre-from-its-poster/MovieGenre.csv\", encoding = \"ISO-8859-1\")"
   ]
  },
  {
   "cell_type": "code",
   "execution_count": 4,
   "metadata": {},
   "outputs": [],
   "source": [
    "df_movie_sample = df_movie[df_movie[\"imdbId\"].isin(image_ids)]\n",
    "df_movie_sample = df_movie_sample.drop_duplicates(subset=['imdbId'], keep=\"last\")"
   ]
  },
  {
   "cell_type": "code",
   "execution_count": 7,
   "metadata": {},
   "outputs": [],
   "source": [
    "poster_url = df_movie_sample['Poster']"
   ]
  },
  {
   "cell_type": "code",
   "execution_count": 8,
   "metadata": {
    "scrolled": true
   },
   "outputs": [
    {
     "data": {
      "text/plain": [
       "877      https://images-na.ssl-images-amazon.com/images...\n",
       "888      https://images-na.ssl-images-amazon.com/images...\n",
       "890      https://images-na.ssl-images-amazon.com/images...\n",
       "940      https://images-na.ssl-images-amazon.com/images...\n",
       "942      https://images-na.ssl-images-amazon.com/images...\n",
       "                               ...                        \n",
       "39884    https://images-na.ssl-images-amazon.com/images...\n",
       "39890    https://images-na.ssl-images-amazon.com/images...\n",
       "40044    https://images-na.ssl-images-amazon.com/images...\n",
       "40057    https://images-na.ssl-images-amazon.com/images...\n",
       "40064    https://images-na.ssl-images-amazon.com/images...\n",
       "Name: Poster, Length: 997, dtype: object"
      ]
     },
     "execution_count": 8,
     "metadata": {},
     "output_type": "execute_result"
    }
   ],
   "source": [
    "poster_url"
   ]
  },
  {
   "cell_type": "code",
   "execution_count": 23,
   "metadata": {},
   "outputs": [
    {
     "data": {
      "text/plain": [
       "997"
      ]
     },
     "execution_count": 23,
     "metadata": {},
     "output_type": "execute_result"
    }
   ],
   "source": [
    "df_movie_sample.shape[0]"
   ]
  },
  {
   "cell_type": "code",
   "execution_count": 32,
   "metadata": {},
   "outputs": [],
   "source": [
    "from tqdm import tqdm "
   ]
  },
  {
   "cell_type": "code",
   "execution_count": 34,
   "metadata": {},
   "outputs": [
    {
     "name": "stderr",
     "output_type": "stream",
     "text": [
      "100%|██████████| 996/996 [01:41<00:00,  9.77it/s]\n"
     ]
    }
   ],
   "source": [
    "for i in tqdm(range(1, df_movie_sample.shape[0])):\n",
    "    try: \n",
    "        url = df_movie_sample['Poster'].iloc[i]\n",
    "        name = df_movie_sample['imdbId'].iloc[i]\n",
    "        response = requests.get(url)\n",
    "        img = Image.open(BytesIO(response.content))\n",
    "        size = 182, 268\n",
    "        img.thumbnail(size)\n",
    "        img.save(\"../data/movie-genre-from-its-poster/MoviePosters/\"+str(name)+'.jpg')\n",
    "    except:\n",
    "        pass"
   ]
  },
  {
   "cell_type": "code",
   "execution_count": null,
   "metadata": {},
   "outputs": [],
   "source": []
  }
 ],
 "metadata": {
  "kernelspec": {
   "display_name": "Python 3",
   "language": "python",
   "name": "python3"
  },
  "language_info": {
   "codemirror_mode": {
    "name": "ipython",
    "version": 3
   },
   "file_extension": ".py",
   "mimetype": "text/x-python",
   "name": "python",
   "nbconvert_exporter": "python",
   "pygments_lexer": "ipython3",
   "version": "3.7.6"
  }
 },
 "nbformat": 4,
 "nbformat_minor": 4
}
